{
  "nbformat": 4,
  "nbformat_minor": 0,
  "metadata": {
    "colab": {
      "name": "logistic_regression.ipynb",
      "provenance": [],
      "authorship_tag": "ABX9TyOZ89xEqcATDQid/xo7SVo0",
      "include_colab_link": true
    },
    "kernelspec": {
      "name": "python3",
      "display_name": "Python 3"
    },
    "language_info": {
      "name": "python"
    }
  },
  "cells": [
    {
      "cell_type": "markdown",
      "metadata": {
        "id": "view-in-github",
        "colab_type": "text"
      },
      "source": [
        "<a href=\"https://colab.research.google.com/github/Vonewman/Deep-Learning-with-PyTorch/blob/main/logistic_regression.ipynb\" target=\"_parent\"><img src=\"https://colab.research.google.com/assets/colab-badge.svg\" alt=\"Open In Colab\"/></a>"
      ]
    },
    {
      "cell_type": "code",
      "metadata": {
        "id": "mxxcc4alphh7"
      },
      "source": [
        "import torch\n",
        "import torch.nn as nn\n",
        "import torchvision\n",
        "import torchvision.transforms as transforms"
      ],
      "execution_count": 6,
      "outputs": []
    },
    {
      "cell_type": "code",
      "metadata": {
        "id": "CeCoYGkb0f5v"
      },
      "source": [
        "# Hyperparameters\n",
        "input_size = 28 * 28\n",
        "num_classes = 10\n",
        "num_epochs = 5\n",
        "batch_size = 100\n",
        "learning_rate = 0.001"
      ],
      "execution_count": 7,
      "outputs": []
    },
    {
      "cell_type": "code",
      "metadata": {
        "id": "tuZDNfqoEbls"
      },
      "source": [
        "# MNIST dataset (Images and labels)\n",
        "train_dataset = torchvision.datasets.MNIST(root=\"../../data\",\n",
        "                                           train=True,\n",
        "                                           transform=transforms.ToTensor(),\n",
        "                                           download=True)\n",
        "test_dataset = torchvision.datasets.MNIST(root='../../data', \n",
        "                                          train=False, \n",
        "                                          transform=transforms.ToTensor())"
      ],
      "execution_count": 8,
      "outputs": []
    },
    {
      "cell_type": "code",
      "metadata": {
        "id": "PoQNxHANKO3A"
      },
      "source": [
        "# Data loader (input pipeline)\n",
        "train_loader = torch.utils.data.DataLoader(dataset=train_dataset, \n",
        "                                           batch_size=batch_size, \n",
        "                                           shuffle=True)\n",
        "\n",
        "test_loader = torch.utils.data.DataLoader(dataset=test_dataset, \n",
        "                                          batch_size=batch_size, \n",
        "                                          shuffle=False)"
      ],
      "execution_count": 9,
      "outputs": []
    },
    {
      "cell_type": "code",
      "metadata": {
        "id": "4E0Jyo2EKX3k"
      },
      "source": [
        "# logistic regression model\n",
        "model = nn.Linear(input_size, num_classes)"
      ],
      "execution_count": 10,
      "outputs": []
    },
    {
      "cell_type": "code",
      "metadata": {
        "id": "lLkCfUbmLCt0"
      },
      "source": [
        "# Loss and optimizer\n",
        "# nn.CrossEntropyLoss() computes softmax internally\n",
        "criterion = nn.CrossEntropyLoss()  \n",
        "optimizer = torch.optim.SGD(model.parameters(), lr=learning_rate)"
      ],
      "execution_count": 11,
      "outputs": []
    },
    {
      "cell_type": "code",
      "metadata": {
        "colab": {
          "base_uri": "https://localhost:8080/"
        },
        "id": "JS8pO8sxkGDd",
        "outputId": "a184c217-88bc-46e4-974b-14fc5796bb5b"
      },
      "source": [
        "# Train the model\n",
        "total_step = len(train_loader)\n",
        "for epoch in range(num_epochs):\n",
        "    for i, (images, labels) in enumerate(train_loader):\n",
        "        # Reshape images to (batch_size, input_size)\n",
        "        images = images.reshape(-1, input_size)\n",
        "        \n",
        "        # Forward pass\n",
        "        outputs = model(images)\n",
        "        loss = criterion(outputs, labels)\n",
        "        \n",
        "        # Backward and optimize\n",
        "        optimizer.zero_grad()\n",
        "        loss.backward()\n",
        "        optimizer.step()\n",
        "        \n",
        "        if (i+1) % 100 == 0:\n",
        "            print ('Epoch [{}/{}], Step [{}/{}], Loss: {:.4f}' \n",
        "                   .format(epoch+1, num_epochs, i+1, total_step, loss.item()))"
      ],
      "execution_count": 12,
      "outputs": [
        {
          "output_type": "stream",
          "name": "stdout",
          "text": [
            "Epoch [1/5], Step [100/600], Loss: 2.2146\n",
            "Epoch [1/5], Step [200/600], Loss: 2.1005\n",
            "Epoch [1/5], Step [300/600], Loss: 2.0223\n",
            "Epoch [1/5], Step [400/600], Loss: 1.9590\n",
            "Epoch [1/5], Step [500/600], Loss: 1.8632\n",
            "Epoch [1/5], Step [600/600], Loss: 1.7786\n",
            "Epoch [2/5], Step [100/600], Loss: 1.7534\n",
            "Epoch [2/5], Step [200/600], Loss: 1.6936\n",
            "Epoch [2/5], Step [300/600], Loss: 1.6342\n",
            "Epoch [2/5], Step [400/600], Loss: 1.5799\n",
            "Epoch [2/5], Step [500/600], Loss: 1.5053\n",
            "Epoch [2/5], Step [600/600], Loss: 1.4257\n",
            "Epoch [3/5], Step [100/600], Loss: 1.4667\n",
            "Epoch [3/5], Step [200/600], Loss: 1.4401\n",
            "Epoch [3/5], Step [300/600], Loss: 1.3662\n",
            "Epoch [3/5], Step [400/600], Loss: 1.3301\n",
            "Epoch [3/5], Step [500/600], Loss: 1.3008\n",
            "Epoch [3/5], Step [600/600], Loss: 1.3281\n",
            "Epoch [4/5], Step [100/600], Loss: 1.3026\n",
            "Epoch [4/5], Step [200/600], Loss: 1.3250\n",
            "Epoch [4/5], Step [300/600], Loss: 1.2355\n",
            "Epoch [4/5], Step [400/600], Loss: 1.0159\n",
            "Epoch [4/5], Step [500/600], Loss: 1.1345\n",
            "Epoch [4/5], Step [600/600], Loss: 1.0760\n",
            "Epoch [5/5], Step [100/600], Loss: 1.0140\n",
            "Epoch [5/5], Step [200/600], Loss: 1.0801\n",
            "Epoch [5/5], Step [300/600], Loss: 0.9787\n",
            "Epoch [5/5], Step [400/600], Loss: 1.0079\n",
            "Epoch [5/5], Step [500/600], Loss: 1.0799\n",
            "Epoch [5/5], Step [600/600], Loss: 1.0223\n"
          ]
        }
      ]
    },
    {
      "cell_type": "code",
      "metadata": {
        "colab": {
          "base_uri": "https://localhost:8080/"
        },
        "id": "A077fRX8n0fY",
        "outputId": "52199877-e285-4d7c-9fc9-15ef6b08169d"
      },
      "source": [
        "# Test the model\n",
        "# In test phase, we don't need to compute gradients (for memory efficiency)\n",
        "with torch.no_grad():\n",
        "    correct = 0\n",
        "    total = 0\n",
        "    for images, labels in test_loader:\n",
        "        images = images.reshape(-1, input_size)\n",
        "        outputs = model(images)\n",
        "        _, predicted = torch.max(outputs.data, 1)\n",
        "        total += labels.size(0)\n",
        "        correct += (predicted == labels).sum()\n",
        "\n",
        "    print('Accuracy of the model on the 10000 test images: {} %'.format(100 * correct / total))"
      ],
      "execution_count": 13,
      "outputs": [
        {
          "output_type": "stream",
          "name": "stdout",
          "text": [
            "Accuracy of the model on the 10000 test images: 82.95999908447266 %\n"
          ]
        }
      ]
    },
    {
      "cell_type": "code",
      "metadata": {
        "id": "xn53JBWCoD2_"
      },
      "source": [
        "# Save the model checkpoint\n",
        "torch.save(model.state_dict(), 'model.ckpt')"
      ],
      "execution_count": 14,
      "outputs": []
    },
    {
      "cell_type": "code",
      "metadata": {
        "id": "29VJ546roG7N"
      },
      "source": [
        ""
      ],
      "execution_count": null,
      "outputs": []
    }
  ]
}